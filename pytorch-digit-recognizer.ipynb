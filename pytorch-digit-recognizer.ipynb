{
 "cells": [
  {
   "cell_type": "markdown",
   "metadata": {},
   "source": [
    "# Pytorch Tutorial"
   ]
  },
  {
   "cell_type": "markdown",
   "metadata": {},
   "source": [
    "Following DATAI guide (https://www.kaggle.com/kanncaa1/pytorch-tutorial-for-deep-learning-lovers)"
   ]
  },
  {
   "cell_type": "code",
   "execution_count": 1,
   "metadata": {
    "_cell_guid": "b1076dfc-b9ad-4769-8c92-a6c4dae69d19",
    "_uuid": "8f2839f25d086af736a60e9eeb907d3b93b6e0e5"
   },
   "outputs": [
    {
     "name": "stdout",
     "output_type": "stream",
     "text": [
      "['train.csv', 'sample_submission.csv', 'test.csv']\n"
     ]
    }
   ],
   "source": [
    "# This Python 3 environment comes with many helpful analytics libraries installed\n",
    "# It is defined by the kaggle/python docker image: https://github.com/kaggle/docker-python\n",
    "# For example, here's several helpful packages to load in \n",
    "\n",
    "import numpy as np # linear algebra\n",
    "import pandas as pd # data processing, CSV file I/O (e.g. pd.read_csv)\n",
    "\n",
    "# Input data files are available in the \"../input/\" directory.\n",
    "# For example, running this (by clicking run or pressing Shift+Enter) will list the files in the input directory\n",
    "\n",
    "import os\n",
    "print(os.listdir(\"../input\"))\n",
    "\n",
    "# Any results you write to the current directory are saved as output."
   ]
  },
  {
   "cell_type": "code",
   "execution_count": 2,
   "metadata": {},
   "outputs": [],
   "source": [
    "import torch\n",
    "import matplotlib.pyplot as plt\n",
    "from torch.autograd import Variable\n",
    "import torchvision.transforms as transforms\n",
    "import torch.nn as nn \n",
    "from sklearn.model_selection import train_test_split\n",
    "import warnings\n",
    "warnings.filterwarnings(\"ignore\")"
   ]
  },
  {
   "cell_type": "markdown",
   "metadata": {},
   "source": [
    "## Linear Regression"
   ]
  },
  {
   "cell_type": "markdown",
   "metadata": {},
   "source": [
    "Simple Linear Regression Example using Pytorch"
   ]
  },
  {
   "cell_type": "code",
   "execution_count": 3,
   "metadata": {
    "_cell_guid": "79c7e3d0-c299-4dcb-8224-4455121ee9b0",
    "_uuid": "d629ff2d2480ee46fbb7e2d37f6b5fab8052498a"
   },
   "outputs": [
    {
     "data": {
      "image/png": "[encoded data removed]",
      "text/plain": [
       "<Figure size 432x288 with 1 Axes>"
      ]
     },
     "metadata": {
      "needs_background": "light"
     },
     "output_type": "display_data"
    }
   ],
   "source": [
    "house_price_k = [300,450,500,670,730,858,912,1000,1200]\n",
    "house_price_k = np.array(house_price_k,dtype=np.float32)\n",
    "# Normalize data to prevent inf loss\n",
    "house_price_k = house_price_k/house_price_k.max(axis=0)\n",
    "house_price_k = house_price_k.reshape(-1,1)\n",
    "house_price_k = Variable(torch.from_numpy(house_price_k))\n",
    "\n",
    "houses_sold = [150,70,66,60,55,55,45,30,1]\n",
    "houses_sold = np.array(houses_sold,dtype=np.float32)\n",
    "# Normalize data to prevent inf loss\n",
    "houses_sold = houses_sold/houses_sold.max(axis=0)\n",
    "houses_sold = houses_sold.reshape(-1,1)\n",
    "houses_sold = Variable(torch.from_numpy(houses_sold))\n",
    "\n",
    "plt.scatter(house_price_k,houses_sold)\n",
    "plt.xlabel(\"House prices in £1000 (normalized)\")\n",
    "plt.ylabel(\"Number of houses sold at that price\")\n",
    "plt.title(\"House Price VS Number of Houses sold\")\n",
    "plt.show()"
   ]
  },
  {
   "cell_type": "code",
   "execution_count": 4,
   "metadata": {},
   "outputs": [
    {
     "name": "stdout",
     "output_type": "stream",
     "text": [
      "epoch 0, loss 1.5299993753433228\n",
      "epoch 150, loss 0.013502690009772778\n",
      "epoch 300, loss 0.013489937409758568\n",
      "epoch 450, loss 0.013489938341081142\n",
      "epoch 600, loss 0.013489934615790844\n",
      "epoch 750, loss 0.013489934615790844\n",
      "epoch 900, loss 0.013489934615790844\n",
      "epoch 1050, loss 0.013489934615790844\n",
      "epoch 1200, loss 0.013489934615790844\n",
      "epoch 1350, loss 0.013489934615790844\n",
      "epoch 1500, loss 0.013489934615790844\n",
      "epoch 1650, loss 0.013489934615790844\n",
      "epoch 1800, loss 0.013489934615790844\n",
      "epoch 1950, loss 0.013489934615790844\n",
      "epoch 2100, loss 0.013489934615790844\n",
      "epoch 2250, loss 0.013489934615790844\n",
      "epoch 2400, loss 0.013489934615790844\n",
      "epoch 2550, loss 0.013489934615790844\n",
      "epoch 2700, loss 0.013489934615790844\n",
      "epoch 2850, loss 0.013489934615790844\n",
      "epoch 3000, loss 0.013489934615790844\n",
      "epoch 3150, loss 0.013489934615790844\n",
      "epoch 3300, loss 0.013489934615790844\n",
      "epoch 3450, loss 0.013489934615790844\n",
      "epoch 3600, loss 0.013489934615790844\n",
      "epoch 3750, loss 0.013489934615790844\n",
      "epoch 3900, loss 0.013489934615790844\n",
      "epoch 4050, loss 0.013489934615790844\n",
      "epoch 4200, loss 0.013489934615790844\n",
      "epoch 4350, loss 0.013489934615790844\n",
      "epoch 4500, loss 0.013489934615790844\n",
      "epoch 4650, loss 0.013489934615790844\n",
      "epoch 4800, loss 0.013489934615790844\n",
      "epoch 4950, loss 0.013489934615790844\n",
      "epoch 5100, loss 0.013489934615790844\n",
      "epoch 5250, loss 0.013489934615790844\n",
      "epoch 5400, loss 0.013489934615790844\n",
      "epoch 5550, loss 0.013489934615790844\n",
      "epoch 5700, loss 0.013489934615790844\n",
      "epoch 5850, loss 0.013489934615790844\n",
      "epoch 6000, loss 0.013489934615790844\n",
      "epoch 6150, loss 0.013489934615790844\n",
      "epoch 6300, loss 0.013489934615790844\n",
      "epoch 6450, loss 0.013489934615790844\n",
      "epoch 6600, loss 0.013489934615790844\n",
      "epoch 6750, loss 0.013489934615790844\n",
      "epoch 6900, loss 0.013489934615790844\n",
      "epoch 7050, loss 0.013489934615790844\n",
      "epoch 7200, loss 0.013489934615790844\n",
      "epoch 7350, loss 0.013489934615790844\n",
      "epoch 7500, loss 0.013489934615790844\n",
      "epoch 7650, loss 0.013489934615790844\n",
      "epoch 7800, loss 0.013489934615790844\n",
      "epoch 7950, loss 0.013489934615790844\n",
      "epoch 8100, loss 0.013489934615790844\n",
      "epoch 8250, loss 0.013489934615790844\n",
      "epoch 8400, loss 0.013489934615790844\n",
      "epoch 8550, loss 0.013489934615790844\n",
      "epoch 8700, loss 0.013489934615790844\n",
      "epoch 8850, loss 0.013489934615790844\n",
      "epoch 9000, loss 0.013489934615790844\n",
      "epoch 9150, loss 0.013489934615790844\n",
      "epoch 9300, loss 0.013489934615790844\n",
      "epoch 9450, loss 0.013489934615790844\n",
      "epoch 9600, loss 0.013489934615790844\n",
      "epoch 9750, loss 0.013489934615790844\n",
      "epoch 9900, loss 0.013489934615790844\n"
     ]
    },
    {
     "data": {
      "image/png": "[encoded data removed]",
      "text/plain": [
       "<Figure size 432x288 with 1 Axes>"
      ]
     },
     "metadata": {
      "needs_background": "light"
     },
     "output_type": "display_data"
    }
   ],
   "source": [
    "class LinearRegression(nn.Module):\n",
    "    def __init__(self,input_size,output_size):\n",
    "        # super function. It inherits from nn.Module and \n",
    "        # we can access everything in nn.Module\n",
    "        super(LinearRegression,self).__init__()\n",
    "        # Linear function.\n",
    "        self.linear = nn.Linear(input_dim,output_dim)\n",
    "\n",
    "    def forward(self,x):\n",
    "        return self.linear(x)\n",
    "    \n",
    "# define model\n",
    "input_dim = 1\n",
    "output_dim = 1\n",
    "model = LinearRegression(input_dim,output_dim) # input and output size are 1\n",
    "\n",
    "# MSE\n",
    "mse = nn.MSELoss()\n",
    "\n",
    "# Optimization (find parameters that minimize error)\n",
    "learning_rate = 0.4  # how fast we reach best parameters\n",
    "optimizer = torch.optim.SGD(model.parameters(),lr = learning_rate)\n",
    "\n",
    "# train model\n",
    "loss_list = []\n",
    "iteration_number = 10000\n",
    "for iteration in range(iteration_number):\n",
    "        \n",
    "    # optimization\n",
    "    optimizer.zero_grad() \n",
    "    \n",
    "    # Forward to get output\n",
    "    results = model(house_price_k)\n",
    "    \n",
    "    # Calculate Loss\n",
    "    loss = mse(results, houses_sold)\n",
    "    \n",
    "    # backward propagation\n",
    "    loss.backward()\n",
    "    \n",
    "    # Updating parameters\n",
    "    optimizer.step()\n",
    "    \n",
    "    # store loss\n",
    "    loss_list.append(loss.data)\n",
    "    \n",
    "    # print loss\n",
    "    if(iteration %150== 0):\n",
    "        print('epoch {}, loss {}'.format(iteration, loss.data))\n",
    "\n",
    "plt.plot(range(iteration_number),loss_list)\n",
    "plt.xlabel(\"Number of Iterations\")\n",
    "plt.ylabel(\"Loss\")\n",
    "plt.show()"
   ]
  },
  {
   "cell_type": "code",
   "execution_count": 5,
   "metadata": {},
   "outputs": [
    {
     "data": {
      "image/png": "[encoded data removed]",
      "text/plain": [
       "<Figure size 432x288 with 1 Axes>"
      ]
     },
     "metadata": {
      "needs_background": "light"
     },
     "output_type": "display_data"
    }
   ],
   "source": [
    "# predict our car price \n",
    "predicted = model(house_price_k).data.numpy()\n",
    "plt.scatter(house_price_k,houses_sold,label = \"original data\",color =\"red\")\n",
    "plt.scatter(house_price_k,predicted,label = \"predicted data\",color =\"blue\")\n",
    "plt.legend()\n",
    "plt.xlabel(\"House prices in £1000 (normalized)\")\n",
    "plt.ylabel(\"Number of houses sold at that price\")\n",
    "plt.title(\"House Price VS Predicted Price\")\n",
    "plt.show()"
   ]
  },
  {
   "cell_type": "markdown",
   "metadata": {},
   "source": [
    "# Logistic Regression"
   ]
  },
  {
   "cell_type": "markdown",
   "metadata": {},
   "source": [
    "Linear Regression can lead to better results than Linear Regression for Classification porpuses\n",
    "\n",
    "Logistic Regression = Linear Regression + Logistic Function(softmax)"
   ]
  },
  {
   "cell_type": "markdown",
   "metadata": {},
   "source": [
    "Logistic regression is good at classification but when complexity(non linearity) increases, the accuracy of model decreases."
   ]
  },
  {
   "cell_type": "code",
   "execution_count": 6,
   "metadata": {},
   "outputs": [
    {
     "data": {
      "image/png": "[encoded data removed]",
      "text/plain": [
       "<Figure size 432x288 with 1 Axes>"
      ]
     },
     "metadata": {
      "needs_background": "light"
     },
     "output_type": "display_data"
    }
   ],
   "source": [
    "# Prepare Dataset\n",
    "# load data\n",
    "train = pd.read_csv(r\"../input/train.csv\",dtype = np.float32)\n",
    "\n",
    "# split data into features(pixels) and labels(numbers from 0 to 9)\n",
    "targets_numpy = train.label.values\n",
    "features_numpy = train.loc[:,train.columns != \"label\"].values/255 # normalization\n",
    "\n",
    "# train test split. Size of train data is 80% and size of test data is 20%. \n",
    "features_train, features_test, targets_train, targets_test = train_test_split(features_numpy,\n",
    "                                                                             targets_numpy,\n",
    "                                                                             test_size = 0.2,\n",
    "                                                                             random_state = 42) \n",
    "\n",
    "# create feature and targets tensor for train set. As you remember we need variable to accumulate gradients. Therefore first we create tensor, then we will create variable\n",
    "featuresTrain = torch.from_numpy(features_train)\n",
    "targetsTrain = torch.from_numpy(targets_train).type(torch.LongTensor) # data type is long\n",
    "\n",
    "# create feature and targets tensor for test set.\n",
    "featuresTest = torch.from_numpy(features_test)\n",
    "targetsTest = torch.from_numpy(targets_test).type(torch.LongTensor) # data type is long\n",
    "\n",
    "# batch_size, epoch and iteration\n",
    "batch_size = 100\n",
    "n_iters = 50000\n",
    "num_epochs = n_iters / (len(features_train) / batch_size)\n",
    "num_epochs = int(num_epochs)\n",
    "\n",
    "# Pytorch train and test sets\n",
    "train = torch.utils.data.TensorDataset(featuresTrain,targetsTrain)\n",
    "test = torch.utils.data.TensorDataset(featuresTest,targetsTest)\n",
    "\n",
    "# data loader\n",
    "train_loader = torch.utils.data.DataLoader(train, batch_size = batch_size, shuffle = False)\n",
    "test_loader = torch.utils.data.DataLoader(test, batch_size = batch_size, shuffle = False)\n",
    "\n",
    "# visualize one of the images in data set\n",
    "plt.imshow(features_numpy[7].reshape(28,28))\n",
    "plt.axis(\"off\")\n",
    "plt.title(str(targets_numpy[7]))\n",
    "plt.savefig('graph.png')\n",
    "plt.show()"
   ]
  },
  {
   "cell_type": "code",
   "execution_count": 7,
   "metadata": {},
   "outputs": [],
   "source": [
    "# Create Logistic Regression Model\n",
    "class LogisticRegressionModel(nn.Module):\n",
    "    def __init__(self, input_dim, output_dim):\n",
    "        super(LogisticRegressionModel, self).__init__()\n",
    "        # Linear part\n",
    "        self.linear = nn.Linear(input_dim, output_dim)\n",
    "        # There should be logistic function right?\n",
    "        # However logistic function in pytorch is in loss function\n",
    "        # So actually we do not forget to put it, it is only at next parts\n",
    "    \n",
    "    def forward(self, x):\n",
    "        out = self.linear(x)\n",
    "        return out\n",
    "\n",
    "# Instantiate Model Class\n",
    "input_dim = 28*28 # size of image px*px\n",
    "output_dim = 10  # labels 0,1,2,3,4,5,6,7,8,9\n",
    "\n",
    "# create logistic regression model\n",
    "model = LogisticRegressionModel(input_dim, output_dim)\n",
    "\n",
    "# Cross Entropy Loss  \n",
    "error = nn.CrossEntropyLoss()\n",
    "\n",
    "# SGD Optimizer \n",
    "learning_rate = 0.001\n",
    "optimizer = torch.optim.SGD(model.parameters(), lr=learning_rate)"
   ]
  },
  {
   "cell_type": "code",
   "execution_count": 8,
   "metadata": {},
   "outputs": [
    {
     "name": "stdout",
     "output_type": "stream",
     "text": [
      "Iteration: 700  Loss: 1.7678580284118652  Accuracy: 71%\n",
      "Iteration: 1400  Loss: 1.4187887907028198  Accuracy: 77%\n",
      "Iteration: 2100  Loss: 1.135074257850647  Accuracy: 79%\n",
      "Iteration: 2800  Loss: 1.0227187871932983  Accuracy: 81%\n",
      "Iteration: 3500  Loss: 0.9017693996429443  Accuracy: 82%\n",
      "Iteration: 4200  Loss: 0.8971323370933533  Accuracy: 82%\n",
      "Iteration: 4900  Loss: 0.7907500267028809  Accuracy: 83%\n",
      "Iteration: 5600  Loss: 0.8370683789253235  Accuracy: 84%\n",
      "Iteration: 6300  Loss: 0.6618599891662598  Accuracy: 84%\n",
      "Iteration: 7000  Loss: 0.7134055495262146  Accuracy: 84%\n",
      "Iteration: 7700  Loss: 0.6634719967842102  Accuracy: 85%\n",
      "Iteration: 8400  Loss: 0.5648887753486633  Accuracy: 85%\n",
      "Iteration: 9100  Loss: 0.6367565393447876  Accuracy: 85%\n",
      "Iteration: 9800  Loss: 0.6771481037139893  Accuracy: 85%\n",
      "Iteration: 10500  Loss: 0.5320725440979004  Accuracy: 85%\n",
      "Iteration: 11200  Loss: 0.6205548644065857  Accuracy: 85%\n",
      "Iteration: 11900  Loss: 0.5510497093200684  Accuracy: 86%\n",
      "Iteration: 12600  Loss: 0.6348696351051331  Accuracy: 86%\n",
      "Iteration: 13300  Loss: 0.5521681308746338  Accuracy: 86%\n",
      "Iteration: 14000  Loss: 0.6443211436271667  Accuracy: 86%\n",
      "Iteration: 14700  Loss: 0.4829789102077484  Accuracy: 86%\n",
      "Iteration: 15400  Loss: 0.534584641456604  Accuracy: 86%\n",
      "Iteration: 16100  Loss: 0.5325627326965332  Accuracy: 87%\n",
      "Iteration: 16800  Loss: 0.41932564973831177  Accuracy: 87%\n",
      "Iteration: 17500  Loss: 0.5055068731307983  Accuracy: 87%\n",
      "Iteration: 18200  Loss: 0.5722574591636658  Accuracy: 87%\n",
      "Iteration: 18900  Loss: 0.419083833694458  Accuracy: 87%\n",
      "Iteration: 19600  Loss: 0.5383422374725342  Accuracy: 87%\n",
      "Iteration: 20300  Loss: 0.4645698666572571  Accuracy: 87%\n",
      "Iteration: 21000  Loss: 0.5645937323570251  Accuracy: 87%\n",
      "Iteration: 21700  Loss: 0.48789075016975403  Accuracy: 87%\n",
      "Iteration: 22400  Loss: 0.59394371509552  Accuracy: 87%\n",
      "Iteration: 23100  Loss: 0.42540183663368225  Accuracy: 87%\n",
      "Iteration: 23800  Loss: 0.4704318642616272  Accuracy: 87%\n",
      "Iteration: 24500  Loss: 0.4859793782234192  Accuracy: 87%\n",
      "Iteration: 25200  Loss: 0.35781046748161316  Accuracy: 87%\n",
      "Iteration: 25900  Loss: 0.4476511776447296  Accuracy: 87%\n",
      "Iteration: 26600  Loss: 0.5236813426017761  Accuracy: 87%\n",
      "Iteration: 27300  Loss: 0.3662956655025482  Accuracy: 88%\n",
      "Iteration: 28000  Loss: 0.4979512393474579  Accuracy: 88%\n",
      "Iteration: 28700  Loss: 0.4212998151779175  Accuracy: 88%\n",
      "Iteration: 29400  Loss: 0.5288758873939514  Accuracy: 88%\n",
      "Iteration: 30100  Loss: 0.4578320384025574  Accuracy: 88%\n",
      "Iteration: 30800  Loss: 0.5719488263130188  Accuracy: 88%\n",
      "Iteration: 31500  Loss: 0.3955562710762024  Accuracy: 88%\n",
      "Iteration: 32200  Loss: 0.435679167509079  Accuracy: 88%\n",
      "Iteration: 32900  Loss: 0.4606853127479553  Accuracy: 88%\n",
      "Iteration: 33600  Loss: 0.3216397166252136  Accuracy: 88%\n",
      "Iteration: 34300  Loss: 0.4124681353569031  Accuracy: 88%\n",
      "Iteration: 35000  Loss: 0.4931466281414032  Accuracy: 88%\n",
      "Iteration: 35700  Loss: 0.33463847637176514  Accuracy: 88%\n",
      "Iteration: 36400  Loss: 0.47244957089424133  Accuracy: 88%\n",
      "Iteration: 37100  Loss: 0.39423155784606934  Accuracy: 88%\n",
      "Iteration: 37800  Loss: 0.5058847665786743  Accuracy: 88%\n",
      "Iteration: 38500  Loss: 0.440612256526947  Accuracy: 88%\n",
      "Iteration: 39200  Loss: 0.5599409937858582  Accuracy: 88%\n",
      "Iteration: 39900  Loss: 0.37667495012283325  Accuracy: 88%\n",
      "Iteration: 40600  Loss: 0.41333991289138794  Accuracy: 88%\n",
      "Iteration: 41300  Loss: 0.4440905749797821  Accuracy: 88%\n",
      "Iteration: 42000  Loss: 0.2971433997154236  Accuracy: 88%\n",
      "Iteration: 42700  Loss: 0.38776564598083496  Accuracy: 88%\n",
      "Iteration: 43400  Loss: 0.4711166322231293  Accuracy: 88%\n",
      "Iteration: 44100  Loss: 0.31320443749427795  Accuracy: 88%\n",
      "Iteration: 44800  Loss: 0.45433321595191956  Accuracy: 88%\n",
      "Iteration: 45500  Loss: 0.3753468692302704  Accuracy: 88%\n",
      "Iteration: 46200  Loss: 0.48912787437438965  Accuracy: 88%\n",
      "Iteration: 46900  Loss: 0.4296184480190277  Accuracy: 88%\n",
      "Iteration: 47600  Loss: 0.5524317026138306  Accuracy: 89%\n",
      "Iteration: 48300  Loss: 0.3632795214653015  Accuracy: 89%\n",
      "Iteration: 49000  Loss: 0.3975844979286194  Accuracy: 89%\n",
      "Iteration: 49700  Loss: 0.4320122003555298  Accuracy: 89%\n"
     ]
    }
   ],
   "source": [
    "# Traning the Model\n",
    "count = 0\n",
    "loss_list = []\n",
    "iteration_list = []\n",
    "for epoch in range(num_epochs):\n",
    "    for i, (images, labels) in enumerate(train_loader):\n",
    "        \n",
    "        # Define variables\n",
    "        train = Variable(images.view(-1, 28*28))\n",
    "        labels = Variable(labels)\n",
    "        \n",
    "        # Clear gradients\n",
    "        optimizer.zero_grad()\n",
    "        \n",
    "        # Forward propagation\n",
    "        outputs = model(train)\n",
    "        \n",
    "        # Calculate softmax and cross entropy loss\n",
    "        loss = error(outputs, labels)\n",
    "        \n",
    "        # Calculate gradients\n",
    "        loss.backward()\n",
    "        \n",
    "        # Update parameters\n",
    "        optimizer.step()\n",
    "        \n",
    "        count += 1\n",
    "        \n",
    "        # Prediction\n",
    "        if count % 50 == 0:\n",
    "            # Calculate Accuracy         \n",
    "            correct = 0\n",
    "            total = 0\n",
    "            # Predict test dataset\n",
    "            for images, labels in test_loader: \n",
    "                test = Variable(images.view(-1, 28*28))\n",
    "                \n",
    "                # Forward propagation\n",
    "                outputs = model(test)\n",
    "                \n",
    "                # Get predictions from the maximum value\n",
    "                predicted = torch.max(outputs.data, 1)[1]\n",
    "                \n",
    "                # Total number of labels\n",
    "                total += len(labels)\n",
    "                \n",
    "                # Total correct predictions\n",
    "                correct += (predicted == labels).sum()\n",
    "            \n",
    "            accuracy = 100 * correct / float(total)\n",
    "            \n",
    "            # store loss and iteration\n",
    "            loss_list.append(loss.data)\n",
    "            iteration_list.append(count)\n",
    "        if count % 700 == 0:\n",
    "            # Print Loss\n",
    "            print('Iteration: {}  Loss: {}  Accuracy: {}%'.format(count, loss.data, accuracy))"
   ]
  },
  {
   "cell_type": "code",
   "execution_count": 9,
   "metadata": {},
   "outputs": [
    {
     "data": {
      "image/png": "[encoded data removed]",
      "text/plain": [
       "<Figure size 432x288 with 1 Axes>"
      ]
     },
     "metadata": {
      "needs_background": "light"
     },
     "output_type": "display_data"
    }
   ],
   "source": [
    "# visualization\n",
    "plt.plot(iteration_list,loss_list)\n",
    "plt.xlabel(\"Number of iteration\")\n",
    "plt.ylabel(\"Loss\")\n",
    "plt.title(\"Logistic Regression: Loss vs Number of iteration\")\n",
    "plt.show()"
   ]
  },
  {
   "cell_type": "markdown",
   "metadata": {},
   "source": [
    "# Artificial Neural Network (ANN)"
   ]
  },
  {
   "cell_type": "markdown",
   "metadata": {},
   "source": [
    "ANNs are able to better fit data containing non-linearities (by adding more non linear functions as hidden layer)"
   ]
  },
  {
   "cell_type": "code",
   "execution_count": 10,
   "metadata": {},
   "outputs": [],
   "source": [
    "# Create ANN Model\n",
    "class ANNModel(nn.Module):\n",
    "    def __init__(self, input_dim, hidden_dim, output_dim):\n",
    "        super(ANNModel, self).__init__()\n",
    "        # Linear function 1: 784 --> 100\n",
    "        self.fc1 = nn.Linear(input_dim, hidden_dim) \n",
    "        # Non-linearity 1\n",
    "        self.relu1 = nn.ReLU()\n",
    "        \n",
    "        # Linear function 2: 100 --> 100\n",
    "        self.fc2 = nn.Linear(hidden_dim, hidden_dim)\n",
    "        # Non-linearity 2\n",
    "        self.tanh2 = nn.Tanh()\n",
    "        \n",
    "        # Linear function 3: 100 --> 100\n",
    "        self.fc3 = nn.Linear(hidden_dim, hidden_dim)\n",
    "        # Non-linearity 3\n",
    "        self.elu3 = nn.ELU()\n",
    "        \n",
    "        # Linear function 4 (readout): 100 --> 10\n",
    "        self.fc4 = nn.Linear(hidden_dim, output_dim)  \n",
    "    \n",
    "    def forward(self, x):\n",
    "        # Linear function 1\n",
    "        out = self.fc1(x)\n",
    "        # Non-linearity 1\n",
    "        out = self.relu1(out)\n",
    "        \n",
    "        # Linear function 2\n",
    "        out = self.fc2(out)\n",
    "        # Non-linearity 2\n",
    "        out = self.tanh2(out)\n",
    "        \n",
    "        # Linear function 2\n",
    "        out = self.fc3(out)\n",
    "        # Non-linearity 2\n",
    "        out = self.elu3(out)\n",
    "        \n",
    "        # Linear function 4 (readout)\n",
    "        out = self.fc4(out)\n",
    "        return out\n",
    "\n",
    "# instantiate ANN\n",
    "input_dim = 28*28\n",
    "hidden_dim = 100 #hidden layer dim is one of the hyper parameter and it should be chosen and tuned. For now I only say 150 there is no reason.\n",
    "output_dim = 10\n",
    "\n",
    "# Create ANN\n",
    "model = ANNModel(input_dim, hidden_dim, output_dim)\n",
    "\n",
    "# Cross Entropy Loss \n",
    "error = nn.CrossEntropyLoss()\n",
    "\n",
    "# SGD Optimizer\n",
    "learning_rate = 0.04\n",
    "optimizer = torch.optim.SGD(model.parameters(), lr=learning_rate)"
   ]
  },
  {
   "cell_type": "code",
   "execution_count": 11,
   "metadata": {},
   "outputs": [
    {
     "name": "stdout",
     "output_type": "stream",
     "text": [
      "Iteration: 500  Loss: 0.44547438621520996  Accuracy: 86 %\n",
      "Iteration: 1000  Loss: 0.302815705537796  Accuracy: 90 %\n",
      "Iteration: 1500  Loss: 0.1231832280755043  Accuracy: 92 %\n",
      "Iteration: 2000  Loss: 0.19104915857315063  Accuracy: 93 %\n",
      "Iteration: 2500  Loss: 0.1761694699525833  Accuracy: 94 %\n",
      "Iteration: 3000  Loss: 0.07308691740036011  Accuracy: 95 %\n",
      "Iteration: 3500  Loss: 0.19082306325435638  Accuracy: 95 %\n",
      "Iteration: 4000  Loss: 0.027083057910203934  Accuracy: 95 %\n",
      "Iteration: 4500  Loss: 0.14932426810264587  Accuracy: 95 %\n",
      "Iteration: 5000  Loss: 0.05842341482639313  Accuracy: 96 %\n",
      "Iteration: 5500  Loss: 0.1404922604560852  Accuracy: 95 %\n",
      "Iteration: 6000  Loss: 0.10998567938804626  Accuracy: 96 %\n",
      "Iteration: 6500  Loss: 0.07648640125989914  Accuracy: 96 %\n",
      "Iteration: 7000  Loss: 0.0356624498963356  Accuracy: 96 %\n",
      "Iteration: 7500  Loss: 0.04366530850529671  Accuracy: 96 %\n",
      "Iteration: 8000  Loss: 0.14773298799991608  Accuracy: 96 %\n",
      "Iteration: 8500  Loss: 0.010381107218563557  Accuracy: 96 %\n",
      "Iteration: 9000  Loss: 0.029963618144392967  Accuracy: 96 %\n",
      "Iteration: 9500  Loss: 0.008971581235527992  Accuracy: 96 %\n",
      "Iteration: 10000  Loss: 0.07553261518478394  Accuracy: 96 %\n",
      "Iteration: 10500  Loss: 0.008767986670136452  Accuracy: 96 %\n",
      "Iteration: 11000  Loss: 0.02137397788465023  Accuracy: 96 %\n",
      "Iteration: 11500  Loss: 0.009540701285004616  Accuracy: 96 %\n",
      "Iteration: 12000  Loss: 0.012389316223561764  Accuracy: 96 %\n",
      "Iteration: 12500  Loss: 0.01836680807173252  Accuracy: 96 %\n",
      "Iteration: 13000  Loss: 0.010748462751507759  Accuracy: 96 %\n",
      "Iteration: 13500  Loss: 0.011983213014900684  Accuracy: 96 %\n",
      "Iteration: 14000  Loss: 0.015543813817203045  Accuracy: 96 %\n",
      "Iteration: 14500  Loss: 0.008032522164285183  Accuracy: 96 %\n",
      "Iteration: 15000  Loss: 0.004994420800358057  Accuracy: 96 %\n",
      "Iteration: 15500  Loss: 0.006253919564187527  Accuracy: 96 %\n",
      "Iteration: 16000  Loss: 0.004228792153298855  Accuracy: 96 %\n",
      "Iteration: 16500  Loss: 0.0028422498144209385  Accuracy: 96 %\n",
      "Iteration: 17000  Loss: 0.009465274401009083  Accuracy: 96 %\n",
      "Iteration: 17500  Loss: 0.0031199550721794367  Accuracy: 96 %\n",
      "Iteration: 18000  Loss: 0.003399495966732502  Accuracy: 96 %\n",
      "Iteration: 18500  Loss: 0.003396101063117385  Accuracy: 96 %\n",
      "Iteration: 19000  Loss: 0.0027019167318940163  Accuracy: 96 %\n",
      "Iteration: 19500  Loss: 0.002737827366217971  Accuracy: 96 %\n",
      "Iteration: 20000  Loss: 0.0036526776384562254  Accuracy: 97 %\n",
      "Iteration: 20500  Loss: 0.0038209438789635897  Accuracy: 96 %\n",
      "Iteration: 21000  Loss: 0.002463636454194784  Accuracy: 97 %\n",
      "Iteration: 21500  Loss: 0.0023050212766975164  Accuracy: 96 %\n",
      "Iteration: 22000  Loss: 0.002588987350463867  Accuracy: 97 %\n",
      "Iteration: 22500  Loss: 0.0007423686911351979  Accuracy: 97 %\n",
      "Iteration: 23000  Loss: 0.0012043475871905684  Accuracy: 97 %\n",
      "Iteration: 23500  Loss: 0.0008167934138327837  Accuracy: 96 %\n",
      "Iteration: 24000  Loss: 0.0011060046963393688  Accuracy: 96 %\n",
      "Iteration: 24500  Loss: 0.002520275069400668  Accuracy: 96 %\n",
      "Iteration: 25000  Loss: 0.002534847240895033  Accuracy: 96 %\n",
      "Iteration: 25500  Loss: 0.002081689890474081  Accuracy: 96 %\n",
      "Iteration: 26000  Loss: 0.0007472610450349748  Accuracy: 96 %\n",
      "Iteration: 26500  Loss: 0.0014505147701129317  Accuracy: 96 %\n",
      "Iteration: 27000  Loss: 0.0011870383750647306  Accuracy: 96 %\n",
      "Iteration: 27500  Loss: 0.0007831096882000566  Accuracy: 97 %\n",
      "Iteration: 28000  Loss: 0.0016515827737748623  Accuracy: 96 %\n",
      "Iteration: 28500  Loss: 0.0007355499546974897  Accuracy: 96 %\n",
      "Iteration: 29000  Loss: 0.0013728332705795765  Accuracy: 96 %\n",
      "Iteration: 29500  Loss: 0.0004985332489013672  Accuracy: 96 %\n",
      "Iteration: 30000  Loss: 0.0003001594450324774  Accuracy: 96 %\n",
      "Iteration: 30500  Loss: 0.0006110668182373047  Accuracy: 96 %\n",
      "Iteration: 31000  Loss: 0.001372327795252204  Accuracy: 96 %\n",
      "Iteration: 31500  Loss: 0.0005781746003776789  Accuracy: 97 %\n",
      "Iteration: 32000  Loss: 0.0014756298623979092  Accuracy: 96 %\n",
      "Iteration: 32500  Loss: 0.0005558013799600303  Accuracy: 96 %\n",
      "Iteration: 33000  Loss: 0.0015986919170245528  Accuracy: 96 %\n",
      "Iteration: 33500  Loss: 0.0007339859148487449  Accuracy: 96 %\n",
      "Iteration: 34000  Loss: 0.0010948276612907648  Accuracy: 96 %\n",
      "Iteration: 34500  Loss: 0.0010361385066062212  Accuracy: 96 %\n",
      "Iteration: 35000  Loss: 0.0017168617341667414  Accuracy: 96 %\n",
      "Iteration: 35500  Loss: 0.0007121753878891468  Accuracy: 97 %\n",
      "Iteration: 36000  Loss: 0.0013539028586819768  Accuracy: 96 %\n",
      "Iteration: 36500  Loss: 0.0005944728618487716  Accuracy: 96 %\n",
      "Iteration: 37000  Loss: 0.0010301208822056651  Accuracy: 96 %\n",
      "Iteration: 37500  Loss: 0.0012800502590835094  Accuracy: 96 %\n",
      "Iteration: 38000  Loss: 0.0008775520254857838  Accuracy: 97 %\n",
      "Iteration: 38500  Loss: 0.0008345126989297569  Accuracy: 97 %\n",
      "Iteration: 39000  Loss: 0.0008899306994862854  Accuracy: 97 %\n",
      "Iteration: 39500  Loss: 0.0005740547203458846  Accuracy: 97 %\n",
      "Iteration: 40000  Loss: 0.0005812072777189314  Accuracy: 96 %\n",
      "Iteration: 40500  Loss: 0.00017393112648278475  Accuracy: 96 %\n",
      "Iteration: 41000  Loss: 0.0010617923690006137  Accuracy: 96 %\n",
      "Iteration: 41500  Loss: 0.0007337188581004739  Accuracy: 97 %\n",
      "Iteration: 42000  Loss: 0.00023684502230025828  Accuracy: 97 %\n",
      "Iteration: 42500  Loss: 0.00045371055603027344  Accuracy: 97 %\n",
      "Iteration: 43000  Loss: 0.000601272564381361  Accuracy: 97 %\n",
      "Iteration: 43500  Loss: 0.00035351753467693925  Accuracy: 97 %\n",
      "Iteration: 44000  Loss: 0.001043081283569336  Accuracy: 97 %\n",
      "Iteration: 44500  Loss: 0.0008967971662059426  Accuracy: 96 %\n",
      "Iteration: 45000  Loss: 0.0004156208015047014  Accuracy: 97 %\n",
      "Iteration: 45500  Loss: 0.00045309067354537547  Accuracy: 97 %\n",
      "Iteration: 46000  Loss: 0.0003272533358540386  Accuracy: 97 %\n",
      "Iteration: 46500  Loss: 0.000945615756791085  Accuracy: 97 %\n",
      "Iteration: 47000  Loss: 0.0004245472082402557  Accuracy: 97 %\n",
      "Iteration: 47500  Loss: 0.0006617450853809714  Accuracy: 97 %\n",
      "Iteration: 48000  Loss: 0.0005874347407370806  Accuracy: 96 %\n",
      "Iteration: 48500  Loss: 0.00028196335188113153  Accuracy: 97 %\n",
      "Iteration: 49000  Loss: 0.0005629730294458568  Accuracy: 97 %\n",
      "Iteration: 49500  Loss: 0.0004016399325337261  Accuracy: 97 %\n"
     ]
    }
   ],
   "source": [
    "# ANN model training\n",
    "count = 0\n",
    "loss_list = []\n",
    "iteration_list = []\n",
    "accuracy_list = []\n",
    "for epoch in range(num_epochs):\n",
    "    for i, (images, labels) in enumerate(train_loader):\n",
    "\n",
    "        train = Variable(images.view(-1, 28*28))\n",
    "        labels = Variable(labels)\n",
    "        \n",
    "        # Clear gradients\n",
    "        optimizer.zero_grad()\n",
    "        \n",
    "        # Forward propagation\n",
    "        outputs = model(train)\n",
    "        \n",
    "        # Calculate softmax and ross entropy loss\n",
    "        loss = error(outputs, labels)\n",
    "        \n",
    "        # Calculating gradients\n",
    "        loss.backward()\n",
    "        \n",
    "        # Update parameters\n",
    "        optimizer.step()\n",
    "        \n",
    "        count += 1\n",
    "        \n",
    "        if count % 50 == 0:\n",
    "            # Calculate Accuracy         \n",
    "            correct = 0\n",
    "            total = 0\n",
    "            # Predict test dataset\n",
    "            for images, labels in test_loader:\n",
    "\n",
    "                test = Variable(images.view(-1, 28*28))\n",
    "                \n",
    "                # Forward propagation\n",
    "                outputs = model(test)\n",
    "                \n",
    "                # Get predictions from the maximum value\n",
    "                predicted = torch.max(outputs.data, 1)[1]\n",
    "                \n",
    "                # Total number of labels\n",
    "                total += len(labels)\n",
    "\n",
    "                # Total correct predictions\n",
    "                correct += (predicted == labels).sum()\n",
    "            \n",
    "            accuracy = 100 * correct / float(total)\n",
    "            \n",
    "            # store loss and iteration\n",
    "            loss_list.append(loss.data)\n",
    "            iteration_list.append(count)\n",
    "            accuracy_list.append(accuracy)\n",
    "            if count % 500 == 0:\n",
    "                # Print Loss\n",
    "                print('Iteration: {}  Loss: {}  Accuracy: {} %'.format(count, loss.data.item(), accuracy))"
   ]
  },
  {
   "cell_type": "code",
   "execution_count": 12,
   "metadata": {},
   "outputs": [
    {
     "data": {
      "image/png": "[encoded data removed]",
      "text/plain": [
       "<Figure size 432x288 with 1 Axes>"
      ]
     },
     "metadata": {
      "needs_background": "light"
     },
     "output_type": "display_data"
    },
    {
     "data": {
      "image/png": "[encoded data removed]",
      "text/plain": [
       "<Figure size 432x288 with 1 Axes>"
      ]
     },
     "metadata": {
      "needs_background": "light"
     },
     "output_type": "display_data"
    }
   ],
   "source": [
    "# visualization loss \n",
    "plt.plot(iteration_list,loss_list)\n",
    "plt.xlabel(\"Number of iteration\")\n",
    "plt.ylabel(\"Loss\")\n",
    "plt.title(\"ANN: Loss vs Number of iteration\")\n",
    "plt.show()\n",
    "\n",
    "# visualization accuracy \n",
    "plt.plot(iteration_list,accuracy_list,color = \"red\")\n",
    "plt.xlabel(\"Number of iteration\")\n",
    "plt.ylabel(\"Accuracy\")\n",
    "plt.title(\"ANN: Accuracy vs Number of iteration\")\n",
    "plt.show()"
   ]
  },
  {
   "cell_type": "markdown",
   "metadata": {},
   "source": [
    "# Convolutional Neural Network (CNN)"
   ]
  },
  {
   "cell_type": "code",
   "execution_count": 13,
   "metadata": {},
   "outputs": [],
   "source": [
    "# Create CNN Model\n",
    "class CNNModel(nn.Module):\n",
    "    def __init__(self):\n",
    "        super(CNNModel, self).__init__()\n",
    "        \n",
    "        # Convolution 1\n",
    "        self.cnn1 = nn.Conv2d(in_channels=1, out_channels=16, kernel_size=5, stride=1, padding=0)\n",
    "        self.relu1 = nn.ReLU()\n",
    "        \n",
    "        # Max pool 1\n",
    "        self.maxpool1 = nn.MaxPool2d(kernel_size=2)\n",
    "     \n",
    "        # Convolution 2\n",
    "        self.cnn2 = nn.Conv2d(in_channels=16, out_channels=32, kernel_size=5, stride=1, padding=0)\n",
    "        self.relu2 = nn.ReLU()\n",
    "        \n",
    "        # Max pool 2\n",
    "        self.maxpool2 = nn.MaxPool2d(kernel_size=2)\n",
    "        \n",
    "        # Fully connected 1\n",
    "        self.fc1 = nn.Linear(32 * 4 * 4, 10) \n",
    "    \n",
    "    def forward(self, x):\n",
    "        # Convolution 1\n",
    "        out = self.cnn1(x)\n",
    "        out = self.relu1(out)\n",
    "        \n",
    "        # Max pool 1\n",
    "        out = self.maxpool1(out)\n",
    "        \n",
    "        # Convolution 2 \n",
    "        out = self.cnn2(out)\n",
    "        out = self.relu2(out)\n",
    "        \n",
    "        # Max pool 2 \n",
    "        out = self.maxpool2(out)\n",
    "        out = out.view(out.size(0), -1)\n",
    "\n",
    "        # Linear function (readout)\n",
    "        out = self.fc1(out)\n",
    "        \n",
    "        return out\n",
    "\n",
    "# batch_size, epoch and iteration\n",
    "batch_size = 100\n",
    "n_iters = 2500\n",
    "num_epochs = n_iters / (len(features_train) / batch_size)\n",
    "num_epochs = int(num_epochs)\n",
    "\n",
    "# Pytorch train and test sets\n",
    "train = torch.utils.data.TensorDataset(featuresTrain,targetsTrain)\n",
    "test = torch.utils.data.TensorDataset(featuresTest,targetsTest)\n",
    "\n",
    "# data loader\n",
    "train_loader = torch.utils.data.DataLoader(train, batch_size = batch_size, shuffle = False)\n",
    "test_loader = torch.utils.data.DataLoader(test, batch_size = batch_size, shuffle = False)\n",
    "    \n",
    "# Create ANN\n",
    "model = CNNModel()\n",
    "\n",
    "# Cross Entropy Loss \n",
    "error = nn.CrossEntropyLoss()\n",
    "\n",
    "# SGD Optimizer\n",
    "learning_rate = 0.1\n",
    "optimizer = torch.optim.SGD(model.parameters(), lr=learning_rate)"
   ]
  },
  {
   "cell_type": "code",
   "execution_count": 14,
   "metadata": {},
   "outputs": [
    {
     "name": "stdout",
     "output_type": "stream",
     "text": [
      "Iteration: 500  Loss: <built-in method item of Tensor object at 0x7efbcadf7438>  Accuracy: 96 %\n",
      "Iteration: 1000  Loss: <built-in method item of Tensor object at 0x7efbac7185a0>  Accuracy: 97 %\n",
      "Iteration: 1500  Loss: <built-in method item of Tensor object at 0x7efbac7185a0>  Accuracy: 97 %\n",
      "Iteration: 2000  Loss: <built-in method item of Tensor object at 0x7efbac713120>  Accuracy: 98 %\n"
     ]
    }
   ],
   "source": [
    "# CNN model training\n",
    "count = 0\n",
    "loss_list = []\n",
    "iteration_list = []\n",
    "accuracy_list = []\n",
    "for epoch in range(num_epochs):\n",
    "    for i, (images, labels) in enumerate(train_loader):\n",
    "        \n",
    "        train = Variable(images.view(100,1,28,28))\n",
    "        labels = Variable(labels)\n",
    "        \n",
    "        # Clear gradients\n",
    "        optimizer.zero_grad()\n",
    "        \n",
    "        # Forward propagation\n",
    "        outputs = model(train)\n",
    "        \n",
    "        # Calculate softmax and ross entropy loss\n",
    "        loss = error(outputs, labels)\n",
    "        \n",
    "        # Calculating gradients\n",
    "        loss.backward()\n",
    "        \n",
    "        # Update parameters\n",
    "        optimizer.step()\n",
    "        count += 1\n",
    "        if count % 50 == 0:\n",
    "            # Calculate Accuracy         \n",
    "            correct = 0\n",
    "            total = 0\n",
    "            # Iterate through test dataset\n",
    "            for images, labels in test_loader:\n",
    "                \n",
    "                test = Variable(images.view(100,1,28,28))\n",
    "                \n",
    "                # Forward propagation\n",
    "                outputs = model(test)\n",
    "                \n",
    "                # Get predictions from the maximum value\n",
    "                predicted = torch.max(outputs.data, 1)[1]\n",
    "                \n",
    "                # Total number of labels\n",
    "                total += len(labels)\n",
    "                \n",
    "                correct += (predicted == labels).sum()\n",
    "            \n",
    "            accuracy = 100 * correct / float(total)\n",
    "            \n",
    "            # store loss and iteration\n",
    "            loss_list.append(loss.data)\n",
    "            iteration_list.append(count)\n",
    "            accuracy_list.append(accuracy)\n",
    "            if count % 500 == 0:\n",
    "                # Print Loss\n",
    "                print('Iteration: {}  Loss: {}  Accuracy: {} %'.format(count, loss.data.item, accuracy))"
   ]
  },
  {
   "cell_type": "code",
   "execution_count": 15,
   "metadata": {},
   "outputs": [
    {
     "data": {
      "image/png": "[encoded data removed]",
      "text/plain": [
       "<Figure size 432x288 with 1 Axes>"
      ]
     },
     "metadata": {
      "needs_background": "light"
     },
     "output_type": "display_data"
    },
    {
     "data": {
      "image/png": "[encoded data removed]",
      "text/plain": [
       "<Figure size 432x288 with 1 Axes>"
      ]
     },
     "metadata": {
      "needs_background": "light"
     },
     "output_type": "display_data"
    }
   ],
   "source": [
    "# visualization loss \n",
    "plt.plot(iteration_list,loss_list)\n",
    "plt.xlabel(\"Number of iteration\")\n",
    "plt.ylabel(\"Loss\")\n",
    "plt.title(\"CNN: Loss vs Number of iteration\")\n",
    "plt.show()\n",
    "\n",
    "# visualization accuracy \n",
    "plt.plot(iteration_list,accuracy_list,color = \"red\")\n",
    "plt.xlabel(\"Number of iteration\")\n",
    "plt.ylabel(\"Accuracy\")\n",
    "plt.title(\"CNN: Accuracy vs Number of iteration\")\n",
    "plt.show()"
   ]
  },
  {
   "cell_type": "markdown",
   "metadata": {},
   "source": [
    "# Recurrent Neural Network (RNN)"
   ]
  },
  {
   "cell_type": "code",
   "execution_count": 16,
   "metadata": {},
   "outputs": [],
   "source": [
    "# Create RNN Model\n",
    "class RNNModel(nn.Module):\n",
    "    def __init__(self, input_dim, hidden_dim, layer_dim, output_dim):\n",
    "        super(RNNModel, self).__init__()\n",
    "        # Number of hidden dimensions\n",
    "        self.hidden_dim = hidden_dim\n",
    "        \n",
    "        # Number of hidden layers\n",
    "        self.layer_dim = layer_dim\n",
    "        \n",
    "        # RNN\n",
    "        self.rnn = nn.RNN(input_dim, hidden_dim, layer_dim, batch_first=True, \n",
    "                          nonlinearity='relu')\n",
    "        \n",
    "        # Readout layer\n",
    "        self.fc = nn.Linear(hidden_dim, output_dim)\n",
    "    \n",
    "    def forward(self, x):\n",
    "        # Initialize hidden state with zeros\n",
    "        h0 = Variable(torch.zeros(self.layer_dim, x.size(0), self.hidden_dim))\n",
    "            \n",
    "        # One time step\n",
    "        out, hn = self.rnn(x, h0)\n",
    "        out = self.fc(out[:, -1, :]) \n",
    "        return out\n",
    "\n",
    "# batch_size, epoch and iteration\n",
    "batch_size = 100\n",
    "n_iters = 2500\n",
    "num_epochs = n_iters / (len(features_train) / batch_size)\n",
    "num_epochs = int(num_epochs)\n",
    "\n",
    "# Pytorch train and test sets\n",
    "train = torch.utils.data.TensorDataset(featuresTrain,targetsTrain)\n",
    "test = torch.utils.data.TensorDataset(featuresTest,targetsTest)\n",
    "\n",
    "# data loader\n",
    "train_loader = torch.utils.data.DataLoader(train, batch_size = batch_size, shuffle = False)\n",
    "test_loader = torch.utils.data.DataLoader(test, batch_size = batch_size, shuffle = False)\n",
    "    \n",
    "# Create RNN\n",
    "input_dim = 28    # input dimension\n",
    "hidden_dim = 100  # hidden layer dimension\n",
    "layer_dim = 2     # number of hidden layers\n",
    "output_dim = 10   # output dimension\n",
    "\n",
    "model = RNNModel(input_dim, hidden_dim, layer_dim, output_dim)\n",
    "\n",
    "# Cross Entropy Loss \n",
    "error = nn.CrossEntropyLoss()\n",
    "\n",
    "# SGD Optimizer\n",
    "learning_rate = 0.05\n",
    "optimizer = torch.optim.SGD(model.parameters(), lr=learning_rate)"
   ]
  },
  {
   "cell_type": "code",
   "execution_count": 17,
   "metadata": {},
   "outputs": [
    {
     "name": "stdout",
     "output_type": "stream",
     "text": [
      "Iteration: 500  Loss: 2.258598804473877  Accuracy: 18 %\n",
      "Iteration: 1000  Loss: 0.8783552050590515  Accuracy: 70 %\n",
      "Iteration: 1500  Loss: 0.31326964497566223  Accuracy: 89 %\n",
      "Iteration: 2000  Loss: 0.34956154227256775  Accuracy: 89 %\n"
     ]
    }
   ],
   "source": [
    "seq_dim = 28  \n",
    "loss_list = []\n",
    "iteration_list = []\n",
    "accuracy_list = []\n",
    "count = 0\n",
    "for epoch in range(num_epochs):\n",
    "    for i, (images, labels) in enumerate(train_loader):\n",
    "\n",
    "        train  = Variable(images.view(-1, seq_dim, input_dim))\n",
    "        labels = Variable(labels )\n",
    "            \n",
    "        # Clear gradients\n",
    "        optimizer.zero_grad()\n",
    "        \n",
    "        # Forward propagation\n",
    "        outputs = model(train)\n",
    "        \n",
    "        # Calculate softmax and ross entropy loss\n",
    "        loss = error(outputs, labels)\n",
    "        \n",
    "        # Calculating gradients\n",
    "        loss.backward()\n",
    "        \n",
    "        # Update parameters\n",
    "        optimizer.step()\n",
    "        \n",
    "        count += 1\n",
    "        \n",
    "        if count % 250 == 0:\n",
    "            # Calculate Accuracy         \n",
    "            correct = 0\n",
    "            total = 0\n",
    "            # Iterate through test dataset\n",
    "            for images, labels in test_loader:\n",
    "                images = Variable(images.view(-1, seq_dim, input_dim))\n",
    "                \n",
    "                # Forward propagation\n",
    "                outputs = model(images)\n",
    "                \n",
    "                # Get predictions from the maximum value\n",
    "                predicted = torch.max(outputs.data, 1)[1]\n",
    "                \n",
    "                # Total number of labels\n",
    "                total += labels.size(0)\n",
    "                \n",
    "                correct += (predicted == labels).sum()\n",
    "            \n",
    "            accuracy = 100 * correct / float(total)\n",
    "            \n",
    "            # store loss and iteration\n",
    "            loss_list.append(loss.data)\n",
    "            iteration_list.append(count)\n",
    "            accuracy_list.append(accuracy)\n",
    "            if count % 500 == 0:\n",
    "                # Print Loss\n",
    "                print('Iteration: {}  Loss: {}  Accuracy: {} %'.format(count, loss.data.item(), accuracy))"
   ]
  },
  {
   "cell_type": "code",
   "execution_count": 18,
   "metadata": {},
   "outputs": [
    {
     "data": {
      "image/png": "[encoded data removed]",
      "text/plain": [
       "<Figure size 432x288 with 1 Axes>"
      ]
     },
     "metadata": {
      "needs_background": "light"
     },
     "output_type": "display_data"
    },
    {
     "data": {
      "image/png": "[encoded data removed]",
      "text/plain": [
       "<Figure size 432x288 with 1 Axes>"
      ]
     },
     "metadata": {
      "needs_background": "light"
     },
     "output_type": "display_data"
    }
   ],
   "source": [
    "# visualization loss \n",
    "plt.plot(iteration_list,loss_list)\n",
    "plt.xlabel(\"Number of iteration\")\n",
    "plt.ylabel(\"Loss\")\n",
    "plt.title(\"RNN: Loss vs Number of iteration\")\n",
    "plt.show()\n",
    "\n",
    "# visualization accuracy \n",
    "plt.plot(iteration_list,accuracy_list,color = \"red\")\n",
    "plt.xlabel(\"Number of iteration\")\n",
    "plt.ylabel(\"Accuracy\")\n",
    "plt.title(\"RNN: Accuracy vs Number of iteration\")\n",
    "plt.savefig('graph.png')\n",
    "plt.show()"
   ]
  }
 ],
 "metadata": {
  "kernelspec": {
   "display_name": "Python 3",
   "language": "python",
   "name": "python3"
  },
  "language_info": {
   "codemirror_mode": {
    "name": "ipython",
    "version": 3
   },
   "file_extension": ".py",
   "mimetype": "text/x-python",
   "name": "python",
   "nbconvert_exporter": "python",
   "pygments_lexer": "ipython3",
   "version": "3.6.6"
  }
 },
 "nbformat": 4,
 "nbformat_minor": 1
}
